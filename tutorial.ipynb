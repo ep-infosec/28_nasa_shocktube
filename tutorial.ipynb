{
  "cells": [
    {
      "cell_type": "markdown",
      "metadata": {
        "id": "3paIVj_uYUZs"
      },
      "source": [
        "# Introduction\n",
        "The purpose of this tutorial is to walk you through how to executing the code to solve the shock tube using 3 different schemes: Roe, AUSM, and AUSM+.\n",
        "Additionally, this tutorial gives a brief background on where the equations come for Roe, AUSM, and AUSM+ come from as links to tutorials and references. \n",
        "There are a lot of good comments codes. The reader is encouraged to execute the code, read the paper, and then read the code to understand how the equations from the paper are used. \n"
      ]
    },
    {
      "cell_type": "markdown",
      "metadata": {
        "id": "0SauDisMYUZv"
      },
      "source": [
        "## Shock Tube Background\n",
        "A shock tube is a tube that has high pressure in one region and low pressure in the other separated by a diaphram such as a rupture disk. The signficance of this problem is that it can be solved analytically which makes it great for testing numerical schemes. It can also be used to test fast response pressure probes and thermocouples. When the diaphragm bursts, there is a sudden expansion wave that accelerates the flow from high pressure to low pressure indicated in region II. The angle of this expansion wave increase over time \\(you will see this later\\). This means the flow is speeding up. There's a also a flat region where nothing is happening - this is the contact discontiunity. In this region Velocity, Pressure, Temperature, and Density are all constant. After the contact discontinuity, there are two shocks to bring the pressure down to the low pressure region.\n",
        "\n",
        "\n",
        "<img src=\"https://github.com/nasa/shocktube/blob/main/docs/diagram.jpg?raw=1\" style=\"width:800px;\"> </br>\n",
        "<img src=\"https://github.com/nasa/shocktube/blob/main/docs/solution.jpg?raw=1\" style=\"width:800px;\">\n",
        "\n",
        "\n"
      ]
    },
    {
      "cell_type": "markdown",
      "metadata": {
        "id": "WADQnsCxYUZv"
      },
      "source": [
        "## Governing Equations\n",
        "The equation below are the governing equation for a 1D shock tube problem. The $U$ vector contains the quantities of interest added to a flux vector $F(U)$. In the code the flux vector maybe denoted as the variable $q$. \n",
        "\n",
        "$$\n",
        "\\frac{\\partial}{\\partial t} \\begin{bmatrix} \n",
        "\\rho \\\\\n",
        "\\rho u \\\\ \n",
        "rho E\n",
        "\\end{bmatrix} \n",
        "+\n",
        "\\frac{\\partial}{\\partial x} \\begin{bmatrix}\n",
        "\\rho u \\\\\n",
        "\\rho u^2 + P \\\\\n",
        "(rhoE + P) * u\n",
        "\\end{bmatrix} = 0\n",
        "$$\n",
        "\n",
        "$U$ vector consits of the quantities changing with respect to time. \n",
        "$$\n",
        "U = \n",
        "\\frac{\\partial}{\\partial t} \\begin{bmatrix} \n",
        "\\rho \\\\\n",
        "\\rho u \\\\ \n",
        "rho E\n",
        "\\end{bmatrix} \n",
        "$$ \n",
        "\n",
        "The Flux vector $F(U)$ is written as a function of $U$ this way we can define it as a function in the code and compute it at the $U_{i+1}$ point for example. \n",
        "$$\n",
        "F(U) = \\begin{bmatrix}\n",
        "\\rho u \\\\\n",
        "\\rho u^2 + P \\\\\n",
        "(rhoE + P) * u\n",
        "\\end{bmatrix}\n",
        "$$\n",
        "\n",
        "### Useful Equations \n",
        "Initial speed of sound\n",
        "$$\n",
        "a_0 = \\sqrt(\\gamma * P_0 / \\rho )\n",
        "$$\n",
        "\n",
        "$`u_0`$ is a vector defining the initial velocity in the system\n",
        "$$\n",
        "dt = CFL * dx / max(|u_0| + a_0)\n",
        "$$\n",
        "\n",
        "Where \n",
        "$$\n",
        "P = \\rho*(\\gamma - 1)(E - 0.5u^2)\n",
        "$$\n",
        "\n",
        "\n",
        "and $`\\gamma = 1.4`$ \n",
        "\n",
        "Internal Energy is \n",
        "$$\n",
        "e = c_v * T \n",
        "$$\n",
        "\n",
        "$$\n",
        "c_v = \\frac{k}{\\mu} * \\frac{1}{\\gamma-1}\n",
        "$$\n",
        "\n",
        "Viscosity $`\\mu`$ and thermal conductivity $`k`$ for air needs to be looked up. Units of $`c_v`$ is J/(Kg K)\n",
        "\n",
        "> Note:\n",
        "> Solution must be stopped before the wave hits the boundary"
      ]
    },
    {
      "cell_type": "markdown",
      "metadata": {
        "id": "CDwFMJCrYUZw"
      },
      "source": [
        "# Roe Scheme\n",
        "The code for using the [Roe Scheme](https://en.wikipedia.org/wiki/Roe_solver) to solve the shock tube comes from the tutorial video below. Roe scheme applies the chain rule to the flux vector. This creates a jacobian matrix $A(U)$. This matrix can then be represented as a matrix consisting of eigenvectors and eigenvalues $V\\Lambda V^-1$ and used to compute the Roe Flux. \n",
        "\n",
        "For more detailed information, please see the comments in the code `Analytical-Roe.py` and the tutorial below. \n",
        "\n",
        "<div align=\"left\">\n",
        "      <a href=\"https://www.youtube.com/watch?v=F_PsFHvt8IU\">\n",
        "         <img src=\"https://img.youtube.com/vi/F_PsFHvt8IU/0.jpg\" style=\"width:500px;\">\n",
        "      </a>\n",
        "</div>\n",
        "\n",
        "> Reference \n",
        "> [Roe Scheme Paper](references/Roe%20Scheme.pdf)"
      ]
    },
    {
      "cell_type": "markdown",
      "metadata": {
        "id": "5Tv7mm6cYUZw"
      },
      "source": [
        "## Prerequisites \n",
        "Run the code below to install all the python prerequisites needed for the rest of the tutorial"
      ]
    },
    {
      "cell_type": "code",
      "source": [
        "!git clone https://github.com/nasa/shocktube.git\n",
        "!mv shocktube/* ."
      ],
      "metadata": {
        "colab": {
          "base_uri": "https://localhost:8080/"
        },
        "id": "Z9sJPcELYpfz",
        "outputId": "d2163516-66f8-4529-91ec-aca609db3fcf"
      },
      "execution_count": 10,
      "outputs": [
        {
          "output_type": "stream",
          "name": "stdout",
          "text": [
            "Cloning into 'shocktube'...\n",
            "remote: Enumerating objects: 59, done.\u001b[K\n",
            "remote: Counting objects:   1% (1/59)\u001b[K\rremote: Counting objects:   3% (2/59)\u001b[K\rremote: Counting objects:   5% (3/59)\u001b[K\rremote: Counting objects:   6% (4/59)\u001b[K\rremote: Counting objects:   8% (5/59)\u001b[K\rremote: Counting objects:  10% (6/59)\u001b[K\rremote: Counting objects:  11% (7/59)\u001b[K\rremote: Counting objects:  13% (8/59)\u001b[K\rremote: Counting objects:  15% (9/59)\u001b[K\rremote: Counting objects:  16% (10/59)\u001b[K\rremote: Counting objects:  18% (11/59)\u001b[K\rremote: Counting objects:  20% (12/59)\u001b[K\rremote: Counting objects:  22% (13/59)\u001b[K\rremote: Counting objects:  23% (14/59)\u001b[K\rremote: Counting objects:  25% (15/59)\u001b[K\rremote: Counting objects:  27% (16/59)\u001b[K\rremote: Counting objects:  28% (17/59)\u001b[K\rremote: Counting objects:  30% (18/59)\u001b[K\rremote: Counting objects:  32% (19/59)\u001b[K\rremote: Counting objects:  33% (20/59)\u001b[K\rremote: Counting objects:  35% (21/59)\u001b[K\rremote: Counting objects:  37% (22/59)\u001b[K\rremote: Counting objects:  38% (23/59)\u001b[K\rremote: Counting objects:  40% (24/59)\u001b[K\rremote: Counting objects:  42% (25/59)\u001b[K\rremote: Counting objects:  44% (26/59)\u001b[K\rremote: Counting objects:  45% (27/59)\u001b[K\rremote: Counting objects:  47% (28/59)\u001b[K\rremote: Counting objects:  49% (29/59)\u001b[K\rremote: Counting objects:  50% (30/59)\u001b[K\rremote: Counting objects:  52% (31/59)\u001b[K\rremote: Counting objects:  54% (32/59)\u001b[K\rremote: Counting objects:  55% (33/59)\u001b[K\rremote: Counting objects:  57% (34/59)\u001b[K\rremote: Counting objects:  59% (35/59)\u001b[K\rremote: Counting objects:  61% (36/59)\u001b[K\rremote: Counting objects:  62% (37/59)\u001b[K\rremote: Counting objects:  64% (38/59)\u001b[K\rremote: Counting objects:  66% (39/59)\u001b[K\rremote: Counting objects:  67% (40/59)\u001b[K\rremote: Counting objects:  69% (41/59)\u001b[K\rremote: Counting objects:  71% (42/59)\u001b[K\rremote: Counting objects:  72% (43/59)\u001b[K\rremote: Counting objects:  74% (44/59)\u001b[K\rremote: Counting objects:  76% (45/59)\u001b[K\rremote: Counting objects:  77% (46/59)\u001b[K\rremote: Counting objects:  79% (47/59)\u001b[K\rremote: Counting objects:  81% (48/59)\u001b[K\rremote: Counting objects:  83% (49/59)\u001b[K\rremote: Counting objects:  84% (50/59)\u001b[K\rremote: Counting objects:  86% (51/59)\u001b[K\rremote: Counting objects:  88% (52/59)\u001b[K\rremote: Counting objects:  89% (53/59)\u001b[K\rremote: Counting objects:  91% (54/59)\u001b[K\rremote: Counting objects:  93% (55/59)\u001b[K\rremote: Counting objects:  94% (56/59)\u001b[K\rremote: Counting objects:  96% (57/59)\u001b[K\rremote: Counting objects:  98% (58/59)\u001b[K\rremote: Counting objects: 100% (59/59)\u001b[K\rremote: Counting objects: 100% (59/59), done.\u001b[K\n",
            "remote: Compressing objects: 100% (48/48), done.\u001b[K\n",
            "remote: Total 59 (delta 10), reused 51 (delta 8), pack-reused 0\u001b[K\n",
            "Unpacking objects: 100% (59/59), done.\n"
          ]
        }
      ]
    },
    {
      "cell_type": "code",
      "execution_count": 16,
      "metadata": {
        "colab": {
          "base_uri": "https://localhost:8080/"
        },
        "id": "NEc4XOOrYUZx",
        "outputId": "df26d313-0d28-4b29-9953-cd933056d708"
      },
      "outputs": [
        {
          "output_type": "stream",
          "name": "stdout",
          "text": [
            "Looking in indexes: https://pypi.org/simple, https://us-python.pkg.dev/colab-wheels/public/simple/\n",
            "Requirement already satisfied: moviepy in /usr/local/lib/python3.7/dist-packages (1.0.3)\n",
            "Requirement already satisfied: imageio-ffmpeg>=0.2.0 in /usr/local/lib/python3.7/dist-packages (from moviepy) (0.4.7)\n",
            "Requirement already satisfied: proglog<=1.0.0 in /usr/local/lib/python3.7/dist-packages (from moviepy) (0.1.10)\n",
            "Requirement already satisfied: tqdm<5.0,>=4.11.2 in /usr/local/lib/python3.7/dist-packages (from moviepy) (4.64.1)\n",
            "Requirement already satisfied: numpy in /usr/local/lib/python3.7/dist-packages (from moviepy) (1.21.6)\n",
            "Requirement already satisfied: decorator<5.0,>=4.0.2 in /usr/local/lib/python3.7/dist-packages (from moviepy) (4.4.2)\n",
            "Requirement already satisfied: requests<3.0,>=2.8.1 in /usr/local/lib/python3.7/dist-packages (from moviepy) (2.23.0)\n",
            "Requirement already satisfied: imageio<3.0,>=2.5 in /usr/local/lib/python3.7/dist-packages (from moviepy) (2.9.0)\n",
            "Requirement already satisfied: pillow in /usr/local/lib/python3.7/dist-packages (from imageio<3.0,>=2.5->moviepy) (7.1.2)\n",
            "Requirement already satisfied: urllib3!=1.25.0,!=1.25.1,<1.26,>=1.21.1 in /usr/local/lib/python3.7/dist-packages (from requests<3.0,>=2.8.1->moviepy) (1.24.3)\n",
            "Requirement already satisfied: certifi>=2017.4.17 in /usr/local/lib/python3.7/dist-packages (from requests<3.0,>=2.8.1->moviepy) (2022.9.24)\n",
            "Requirement already satisfied: idna<3,>=2.5 in /usr/local/lib/python3.7/dist-packages (from requests<3.0,>=2.8.1->moviepy) (2.10)\n",
            "Requirement already satisfied: chardet<4,>=3.0.2 in /usr/local/lib/python3.7/dist-packages (from requests<3.0,>=2.8.1->moviepy) (3.0.4)\n"
          ]
        }
      ],
      "source": [
        "!pip install -U moviepy\n",
        "from IPython.display import HTML, Video\n",
        "import os\n",
        "from moviepy.editor import *\n",
        "import moviepy\n",
        "import sys \n",
        "\n",
        "def create_movie(image_folder:str):\n",
        "    fps=12\n",
        "\n",
        "    image_files = [os.path.join(image_folder,img)\n",
        "                for img in os.listdir(image_folder)\n",
        "                if img.endswith(\".png\")]\n",
        "    image_files.sort()\n",
        "    clip = moviepy.video.io.ImageSequenceClip.ImageSequenceClip(image_files, fps=fps)\n",
        "    clip.write_videofile(f'{image_folder}.mp4')\n",
        "    clip.ipython_display()\n"
      ]
    },
    {
      "cell_type": "markdown",
      "metadata": {
        "id": "cPDaPmfjYUZy"
      },
      "source": [
        "The code below demonstrates how to execute the Roe Scheme from the tutorial. "
      ]
    },
    {
      "cell_type": "code",
      "execution_count": null,
      "metadata": {
        "id": "dBjM0TnnYUZz"
      },
      "outputs": [],
      "source": [
        "# To run the code\n",
        "!rm roe_scheme_results.mp4\n",
        "!python Analytical-Roe.py\n",
        "create_movie('roe_scheme_results')"
      ]
    },
    {
      "cell_type": "code",
      "source": [
        "# Viewing videos locally\n",
        "Video(\"roe_scheme_results.mp4\",width=300)"
      ],
      "metadata": {
        "id": "tzvnz1RwkkZf"
      },
      "execution_count": null,
      "outputs": []
    },
    {
      "cell_type": "code",
      "source": [
        "# Viewing the video on google colab\n",
        "from IPython.display import HTML\n",
        "from base64 import b64encode\n",
        "mp4 = open('roe_scheme_results.mp4','rb').read()\n",
        "data_url = \"data:video/mp4;base64,\" + b64encode(mp4).decode()\n",
        "HTML(\"\"\"\n",
        "<video width=600 controls>\n",
        "   <source src=\"%s\" type=\"video/mp4\">\n",
        "</video>\n",
        "\"\"\" % data_url)"
      ],
      "metadata": {
        "id": "SFWPF751kK-k"
      },
      "execution_count": null,
      "outputs": []
    },
    {
      "cell_type": "markdown",
      "metadata": {
        "id": "TzDCFkLaYUZz"
      },
      "source": [
        "# Ausm Scheme\n",
        "\n",
        "AUSM is an upwind finite volume scheme that provides a way to calculate the flux in between the nodes \\(i+1/2\\). This lets us integrate the flux in and out of each cell boundary. Schemes such as Roe and TVD are accuracte but require more operations to achieve this accuracy, additionally the calculation of eigenvalues makes the scheme complex.\n",
        "\n",
        "The goal of AUSM is to provide a simplified method of flux vector splitting that reduces numerical diffusion. \n",
        "\n",
        "Below are some except equations from the paper that are used in the code.For more detailed information, please see the comments in the code `ausm/analytical-ausm.py` \n",
        "\n",
        "<p align=\"center\">\n",
        "    <img src=\"https://github.com/nasa/shocktube/blob/main/ausm/domain_new.png?raw=1\" alt=\"Domain\" width=\"500px\"/>\n",
        "</p>\n",
        "\n",
        "The equation below is the calculation of Flux at 1/2 \n",
        "\n",
        "<p align=\"center\">\n",
        "    <img src=\"https://github.com/nasa/shocktube/blob/main/ausm/F_half.png?raw=1\" alt=\"Flux Half\" width=\"500px\"/>\n",
        "</p>\n",
        "\n",
        "Mach 1/2 is used in the Flux 1/2 equation. Below is how to compute.\n",
        "\n",
        "<p align=\"center\">\n",
        "    <img src=\"https://github.com/nasa/shocktube/blob/main/ausm/mach_half.png?raw=1\" alt=\"Mach Half\" width=\"500px\"/>\n",
        "</p>\n",
        "\n",
        "Either definition of Pressure at the halfway points is fine. \n",
        "\n",
        "<p align=\"center\">\n",
        "    <img src=\"https://github.com/nasa/shocktube/blob/main/ausm/pressure_pos_neg.png?raw=1\" alt=\"Pressure Positive Negative\" width=\"500px\"/>\n",
        "</p>\n",
        "\n",
        "> Reference:\n",
        "> M.-S. Liou and C. J. Steffen Jr., A new flux splitting scheme, J. Comput. Phys. 107, 23 (1993). First order scheme.\n",
        "> [AUSM](references/19910013501.pdf)\n"
      ]
    },
    {
      "cell_type": "code",
      "execution_count": null,
      "metadata": {
        "id": "XF0Tg9wUYUZ0"
      },
      "outputs": [],
      "source": [
        "# Run the ausm scheme\n",
        "!rm ausm_results.mp4\n",
        "!python ausm/analytical-ausm.py  \n",
        "create_movie('ausm_results')\n",
        "Video(\"ausm_results.mp4\",width=800)"
      ]
    },
    {
      "cell_type": "code",
      "source": [
        "# Viewing video locally\n",
        "Video(\"ausm_results.mp4\",width=800)"
      ],
      "metadata": {
        "id": "i5jiCBJamiv3"
      },
      "execution_count": null,
      "outputs": []
    },
    {
      "cell_type": "code",
      "source": [
        "# Viewing the video on google colab\n",
        "from IPython.display import HTML\n",
        "from base64 import b64encode\n",
        "mp4 = open('ausm_results.mp4','rb').read()\n",
        "data_url = \"data:video/mp4;base64,\" + b64encode(mp4).decode()\n",
        "HTML(\"\"\"\n",
        "<video width=600 controls>\n",
        "   <source src=\"%s\" type=\"video/mp4\">\n",
        "</video>\n",
        "\"\"\" % data_url)"
      ],
      "metadata": {
        "id": "a5RnG_-wmgmP"
      },
      "execution_count": null,
      "outputs": []
    },
    {
      "cell_type": "markdown",
      "metadata": {
        "id": "iBC0moFHYUZ2"
      },
      "source": [
        "# AUSM+ Scheme\n",
        "AUSM+ addresses some deficiencies in the AUSM scheme and improve upon the following: *This list comes from the reference. Please read the paper, the code specifically refers to equations in the paper*\n",
        "\n",
        "1. Exact resolution of 1D contact and shock discontinuities\n",
        "2. Positivity preserving density (no negative density)\n",
        "3. Elimates the [carbuncle phenomenon](https://blogs.sw.siemens.com/simcenter/mitigating-the-carbuncle-effect-for-hypersonic-cfd-simulations/)\n",
        "4. Eliminates oscillations with slow moving shocks\n",
        "5. Simplier algorithm\n",
        "6. Extension to other hyperbolic systems\n",
        "\n",
        "[AUSM+ Part I Paper](references/Sequel%20to%20AUSM%20Part%20I_AUSM%2B%20JCP129_Liou(1).pdf)"
      ]
    },
    {
      "cell_type": "code",
      "execution_count": null,
      "metadata": {
        "id": "Oh9DL7tkYUZ2"
      },
      "outputs": [],
      "source": [
        "# Run the ausm scheme\n",
        "!rm ausm+_results.mp4\n",
        "!python ausm+/main_ausm_plus.py\n",
        "create_movie('ausm+_results')\n"
      ]
    },
    {
      "cell_type": "code",
      "source": [
        "# Viewing video locally\n",
        "Video(\"ausm+_results.mp4\",width=800)"
      ],
      "metadata": {
        "id": "kuwchu2smwNj"
      },
      "execution_count": null,
      "outputs": []
    },
    {
      "cell_type": "code",
      "source": [
        "# Viewing the video on google colab\n",
        "from IPython.display import HTML\n",
        "from base64 import b64encode\n",
        "mp4 = open('ausm+_results.mp4','rb').read()\n",
        "data_url = \"data:video/mp4;base64,\" + b64encode(mp4).decode()\n",
        "HTML(\"\"\"\n",
        "<video width=600 controls>\n",
        "   <source src=\"%s\" type=\"video/mp4\">\n",
        "</video>\n",
        "\"\"\" % data_url)"
      ],
      "metadata": {
        "id": "dPDkzePFmy9H"
      },
      "execution_count": null,
      "outputs": []
    },
    {
      "cell_type": "markdown",
      "metadata": {
        "id": "sAovmhEOYUZ2"
      },
      "source": [
        "# AUSM+ Higher Order\n",
        "The code presented in `ausm_higher_order/main_ausm_plus_higher_order.py` presents a small correction to the ausm paper's equation 65.\n",
        "\n",
        "<img src=\"https://github.com/nasa/shocktube/blob/main/docs/ausm+_eqn65.png?raw=1\" width=\"600px\">\n",
        "\n",
        "\n",
        "\n",
        "> Reference:\n",
        "> Liou, M. S. (1996). A sequel to ausm: Ausm+. Journal of computational Physics, 129(2), 364-382.\n",
        "> [AUSM+ Part I](references/Sequel%20to%20AUSM%20Part%20II_AUSM%2B-up%20JCP214_Liou(1).pdf)\n"
      ]
    },
    {
      "cell_type": "markdown",
      "metadata": {
        "id": "i3IpuL1-YUZ3"
      },
      "source": [
        "## Correction\n",
        "Special thanks to Dr. Kenji Miki for discovering this correction.\n",
        "\n",
        "```python\n",
        "delta_half1 = np.zeros((3,q.shape[1])) # delta+1/2\n",
        "for i in range(0,q.shape[1]-1):\n",
        "    delta_half1[:,i] = q[:,i+1] - q[:,i] \n",
        "\n",
        "W[:,0] = q[:,0]\n",
        "W[:,1] = q[:,1]\n",
        "F_half[:,0] = flux_ausm_plus(W,gamma)[:,0]\n",
        "for i in range(1,q.shape[1]-2):\n",
        "    r_1 = delta_half1[:,i] / delta_half1[:,i-1] # Eqn 66 r_j\n",
        "    r_2 = delta_half1[:,i] / delta_half1[:,i+1] # Eqn 66 r_j+1\n",
        "\n",
        "    r_1 = np.nan_to_num(r_1,nan=0) \n",
        "    r_2 = np.nan_to_num(r_2,nan=0)\n",
        "    if np.any(r_1<0): \n",
        "        W[:,0] = q[:,i]    \n",
        "    else:\n",
        "        W[:,0] = q[:,i] + 0.5 * minmod(r_1) * ( q[:,i] - q[:,i-1] ) # W_L\n",
        "\n",
        "    if np.any(r_2<0): \n",
        "        W[:,1] = q[:,i+1]  \n",
        "    else:        \n",
        "        W[:,1] = q[:,i+1] - 0.5 * minmod(r_2) * ( q[:,i+2] - q[:,i+1] )# W_R <-- The correction is in the minmod \n",
        "    \n",
        "    F_half[:,i] = flux_ausm_plus(W,gamma)[:,0] # Take the states and passes it to ausm plus\n",
        "```\n"
      ]
    },
    {
      "cell_type": "code",
      "execution_count": null,
      "metadata": {
        "id": "hqTrL1ViYUZ3"
      },
      "outputs": [],
      "source": [
        "# Example of the code\n",
        "!rm ausm+_higher_order_results.mp4\n",
        "!python ausm_higher_order/main_ausm_plus_higher_order.py\n",
        "create_movie('ausm+_higher_order_results')\n"
      ]
    },
    {
      "cell_type": "code",
      "source": [
        "# Viewing video locally\n",
        "Video(\"ausm+_higher_order_results.mp4\",width=800)"
      ],
      "metadata": {
        "id": "HYYKV3ROm4fV"
      },
      "execution_count": null,
      "outputs": []
    },
    {
      "cell_type": "code",
      "source": [
        "# Viewing the video on google colab\n",
        "from IPython.display import HTML\n",
        "from base64 import b64encode\n",
        "mp4 = open('ausm+_higher_order_results.mp4','rb').read()\n",
        "data_url = \"data:video/mp4;base64,\" + b64encode(mp4).decode()\n",
        "HTML(\"\"\"\n",
        "<video width=600 controls>\n",
        "   <source src=\"%s\" type=\"video/mp4\">\n",
        "</video>\n",
        "\"\"\" % data_url)"
      ],
      "metadata": {
        "id": "WXdKgZiCm7NQ"
      },
      "execution_count": null,
      "outputs": []
    }
  ],
  "metadata": {
    "kernelspec": {
      "display_name": "Python 3.10.4 ('dev')",
      "language": "python",
      "name": "python3"
    },
    "language_info": {
      "codemirror_mode": {
        "name": "ipython",
        "version": 3
      },
      "file_extension": ".py",
      "mimetype": "text/x-python",
      "name": "python",
      "nbconvert_exporter": "python",
      "pygments_lexer": "ipython3",
      "version": "3.10.4"
    },
    "orig_nbformat": 4,
    "vscode": {
      "interpreter": {
        "hash": "4a044da88c5a9eacc92c27dda77751514e6feccdf99eb82b6312849b57b7fcec"
      }
    },
    "colab": {
      "provenance": []
    }
  },
  "nbformat": 4,
  "nbformat_minor": 0
}